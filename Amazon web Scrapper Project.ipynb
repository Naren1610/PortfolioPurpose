{
 "cells": [
  {
   "cell_type": "code",
   "execution_count": 2,
   "id": "a447cf5b",
   "metadata": {},
   "outputs": [],
   "source": [
    "from bs4 import BeautifulSoup\n",
    "import requests\n",
    "import smtplib\n",
    "import time\n",
    "import datetime\n",
    "import csv\n",
    "import pandas as pd"
   ]
  },
  {
   "cell_type": "code",
   "execution_count": 30,
   "id": "2e2afc60",
   "metadata": {},
   "outputs": [],
   "source": [
    "\n",
    "\n",
    "#creating a dataset in csv format\n",
    "\n",
    "#header=['Name','Price','Date']\n",
    "#data=[title,price,current_date]\n",
    "\n",
    "#with open('AmznWbScrapedDataSet.csv','w',newline='',encoding='UTF8') as f:\n",
    "   # writer=csv.writer(f)\n",
    "   # writer.writerow(header)\n",
    "   # writer.writerow(data)"
   ]
  },
  {
   "cell_type": "code",
   "execution_count": 37,
   "id": "fc029ed8",
   "metadata": {},
   "outputs": [],
   "source": [
    "#appending data to csv\n",
    "#with open('AmznWbScrapedDataSet.csv','a+',newline='',encoding='UTF8') as f:\n",
    "   # writer=csv.writer(f)\n",
    "   # writer.writerow(data) # after appending, the result will look like above"
   ]
  },
  {
   "cell_type": "code",
   "execution_count": 3,
   "id": "df6a9aae",
   "metadata": {},
   "outputs": [],
   "source": [
    "#automated web scrapping for checking live prices of a Amazon Product\n",
    "def price_checker():\n",
    "    URL='https://www.amazon.com/crocs-Unisex-Classic-Black-Women/dp/B0014C5S7S/ref=zg_bs_c_fashion_sccl_1/138-4351185-5270818?pd_rd_w=kxnel&content-id=amzn1.sym.309d45c5-3eba-4f62-9bb2-0acdcf0662e7&pf_rd_p=309d45c5-3eba-4f62-9bb2-0acdcf0662e7&pf_rd_r=F740J4ABQHB36CDE6B29&pd_rd_wg=x0msQ&pd_rd_r=a4105e9a-eb15-4780-823b-18df732eed7a&pd_rd_i=B0014C5S7S&psc=1'\n",
    "    headers={\"User-Agent\": \"Mozilla/5.0 (Windows NT 10.0; Win64; x64) AppleWebKit/537.36 (KHTML, like Gecko) Chrome/114.0.0.0 Safari/537.36\",\"Accept-Encoding\": \"gzip, deflate\",\"Accept\": \"text/html,application/xhtml+xml,application/xml;q=0.9,image/avif,image/webp,image/apng,*/*;q=0.8,application/signed-exchange;v=b3;q=0.7\",\"DNT\":\"1\",\"Connection\":\"close\",\"Upgrade-Insecure-Requests\":\"1\"}\n",
    "    page=requests.get(URL,headers=headers)\n",
    "\n",
    "    soup1=BeautifulSoup(page.content,\"html.parser\")\n",
    "    soup2=BeautifulSoup(soup1.prettify(),\"html.parser\")\n",
    "    title=soup2.find(id='productTitle').get_text()\n",
    "    price=soup2.find(id='corePrice_feature_div').get_text()\n",
    "    price=price.strip()[1:6]\n",
    "    title=title.strip()\n",
    "    current_date=datetime.date.today()\n",
    "    header=['Name','Price','Date']\n",
    "    data=[title,price,current_date]\n",
    "    with open('AmznWbScrapedDataSet.csv','a+',newline='',encoding='UTF8') as f:\n",
    "        writer=csv.writer(f)\n",
    "        writer.writerow(data)\n",
    "    "
   ]
  },
  {
   "cell_type": "code",
   "execution_count": null,
   "id": "249220b1",
   "metadata": {},
   "outputs": [],
   "source": [
    "while(True):\n",
    "    price_checker()\n",
    "    time.sleep(2)"
   ]
  },
  {
   "cell_type": "code",
   "execution_count": 5,
   "id": "99188669",
   "metadata": {},
   "outputs": [
    {
     "name": "stdout",
     "output_type": "stream",
     "text": [
      "                                Name  Price        Date\n",
      "0   Crocs Unisex-Adult Classic Clogs  31.25  2023-08-09\n",
      "1   Crocs Unisex-Adult Classic Clogs  31.25  2023-08-09\n",
      "2   Crocs Unisex-Adult Classic Clogs  31.25  2023-08-09\n",
      "3   Crocs Unisex-Adult Classic Clogs  31.25  2023-08-09\n",
      "4   Crocs Unisex-Adult Classic Clogs  31.25  2023-08-09\n",
      "5   Crocs Unisex-Adult Classic Clogs  31.25  2023-08-09\n",
      "6   Crocs Unisex-Adult Classic Clogs  30.51  2023-08-09\n",
      "7   Crocs Unisex-Adult Classic Clogs  30.51  2023-08-09\n",
      "8   Crocs Unisex-Adult Classic Clogs  30.51  2023-08-09\n",
      "9   Crocs Unisex-Adult Classic Clogs  30.51  2023-08-09\n",
      "10  Crocs Unisex-Adult Classic Clogs  31.25  2023-08-09\n",
      "11  Crocs Unisex-Adult Classic Clogs  31.25  2023-08-09\n",
      "12  Crocs Unisex-Adult Classic Clogs  31.25  2023-08-09\n",
      "13  Crocs Unisex-Adult Classic Clogs  31.25  2023-08-09\n",
      "14  Crocs Unisex-Adult Classic Clogs  31.25  2023-08-09\n",
      "15  Crocs Unisex-Adult Classic Clogs  31.25  2023-08-09\n",
      "16  Crocs Unisex-Adult Classic Clogs  31.25  2023-08-09\n",
      "17  Crocs Unisex-Adult Classic Clogs  31.25  2023-08-09\n",
      "18  Crocs Unisex-Adult Classic Clogs  31.25  2023-08-09\n",
      "19  Crocs Unisex-Adult Classic Clogs  31.25  2023-08-09\n",
      "20  Crocs Unisex-Adult Classic Clogs  31.25  2023-08-09\n"
     ]
    }
   ],
   "source": [
    "df=pd.read_csv(r'C:\\Users\\naren\\AmznWbScrapedDataSet.csv')\n",
    "print(df) "
   ]
  },
  {
   "cell_type": "code",
   "execution_count": null,
   "id": "1e344a3f",
   "metadata": {},
   "outputs": [],
   "source": [
    "#sending email using SMTP {we can use it to send an alert if there's price drop}\n",
    "def send_email():\n",
    "    server=smtplib.SMTP_SSL('smtp.gmail.com',465)\n",
    "    server.ehlo()\n",
    "    #server.starttls()\n",
    "    server.ehlo()\n",
    "    server.login('email@gmail.com','password')\n",
    "    subject='price drop alert!!!!'\n",
    "    body=\"There's a price drop on the item in your wishlist\"\n",
    "    msg=f\"Subject:{subject}\\n\\n{body}\"\n",
    "    server.sendmail('email@gmail.com',msg)"
   ]
  }
 ],
 "metadata": {
  "kernelspec": {
   "display_name": "Python 3 (ipykernel)",
   "language": "python",
   "name": "python3"
  },
  "language_info": {
   "codemirror_mode": {
    "name": "ipython",
    "version": 3
   },
   "file_extension": ".py",
   "mimetype": "text/x-python",
   "name": "python",
   "nbconvert_exporter": "python",
   "pygments_lexer": "ipython3",
   "version": "3.11.3"
  }
 },
 "nbformat": 4,
 "nbformat_minor": 5
}
